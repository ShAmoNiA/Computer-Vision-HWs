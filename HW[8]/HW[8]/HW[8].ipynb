{
  "cells": [
    {
      "cell_type": "code",
      "execution_count": 1,
      "metadata": {
        "id": "eVE9CXTgGLxO"
      },
      "outputs": [
        {
          "name": "stdout",
          "output_type": "stream",
          "text": [
            "\n",
            "We trust you have received the usual lecture from the local System\n",
            "Administrator. It usually boils down to these three things:\n",
            "\n",
            "    #1) Respect the privacy of others.\n",
            "    #2) Think before you type.\n",
            "    #3) With great power comes great responsibility.\n",
            "\n",
            "[sudo] password for birdslab_shayan: "
          ]
        }
      ],
      "source": [
        "!sudo apt install tesseract-ocr\n",
        "!pip install pytesseract"
      ]
    },
    {
      "cell_type": "code",
      "execution_count": null,
      "metadata": {
        "id": "iqHoYiSH62pz"
      },
      "outputs": [],
      "source": [
        "!sudo apt-get install tesseract-ocr-fas"
      ]
    },
    {
      "cell_type": "markdown",
      "metadata": {
        "id": "Vk-Bsayi63d_"
      },
      "source": [
        "# **الف:**"
      ]
    },
    {
      "cell_type": "code",
      "execution_count": null,
      "metadata": {
        "colab": {
          "background_save": true
        },
        "id": "Kg_QnpkS0AE9"
      },
      "outputs": [],
      "source": [
        "# Import required packages\n",
        "import cv2\n",
        "import pytesseract\n",
        "from google.colab.patches import cv2_imshow\n",
        "from PIL import Image\n",
        "\n",
        "##################### your code ################################\n",
        "img = cv2.imread(\".....\")\n",
        "\n",
        "\n",
        "\n",
        "################################################################\n",
        "# Finding contours\n",
        "## result = result otso|adaptive algorithm\n",
        "print(pytesseract.image_to_string( result , lang='fas'))"
      ]
    },
    {
      "cell_type": "code",
      "execution_count": null,
      "metadata": {
        "id": "W3x3Ro2yHOMC"
      },
      "outputs": [],
      "source": [
        "image_path_in_colab='.....'\n",
        "extractedInformation = pytesseract.image_to_string(image_path_in_colab, lang='fas')\n",
        "print(extractedInformation)"
      ]
    },
    {
      "cell_type": "code",
      "execution_count": null,
      "metadata": {
        "id": "PyRrfRCj697Z"
      },
      "outputs": [],
      "source": []
    },
    {
      "cell_type": "markdown",
      "metadata": {
        "id": "YyPqXjW06-dh"
      },
      "source": [
        "# **ب:**"
      ]
    },
    {
      "cell_type": "code",
      "execution_count": null,
      "metadata": {
        "id": "JBGeZj_DTzfs"
      },
      "outputs": [],
      "source": [
        "# Import required packages\n",
        "import cv2\n",
        "import pytesseract\n",
        "from google.colab.patches import cv2_imshow\n",
        "from PIL import Image\n",
        "##################### your code ################################\n",
        "img = cv2.imread(\".....\")\n",
        "\n",
        "\n",
        "\n",
        "################################################################\n",
        "# Finding contours\n",
        "im2 = img.copy()\n",
        "contours, hierarchy = cv2.findContours(dilation, cv2.RETR_EXTERNAL,cv2.CHAIN_APPROX_NONE)\n",
        "\n",
        "for cnt in contours:\n",
        "  x, y, w, h = cv2.boundingRect(cnt)\n",
        "\t# Drawing a rectangle on copied image\n",
        "  rect = cv2.rectangle(im2, (x, y), (x + w, y + h), (0, 255, 0), 2)\n",
        "\t# Cropping the text block for giving input to OCR\n",
        "  cropped = im2[y:y + h, x:x + w]\n",
        "  print(pytesseract.image_to_string(cropped, lang='fas'))\n"
      ]
    },
    {
      "cell_type": "code",
      "execution_count": null,
      "metadata": {
        "id": "VOilxLYHVHwY"
      },
      "outputs": [],
      "source": [
        "image_path_in_colab='....'\n",
        "extractedInformation = pytesseract.image_to_string(image_path_in_colab, lang='fas')\n",
        "print(extractedInformation)"
      ]
    }
  ],
  "metadata": {
    "colab": {
      "provenance": []
    },
    "gpuClass": "standard",
    "kernelspec": {
      "display_name": "Python 3",
      "language": "python",
      "name": "python3"
    },
    "language_info": {
      "codemirror_mode": {
        "name": "ipython",
        "version": 3
      },
      "file_extension": ".py",
      "mimetype": "text/x-python",
      "name": "python",
      "nbconvert_exporter": "python",
      "pygments_lexer": "ipython3",
      "version": "3.6.8"
    },
    "vscode": {
      "interpreter": {
        "hash": "9787c3b6c284d730138f90a1bc0a4eeaaa4717a3b5f24e37908c0b0c62a2d0bc"
      }
    }
  },
  "nbformat": 4,
  "nbformat_minor": 0
}
